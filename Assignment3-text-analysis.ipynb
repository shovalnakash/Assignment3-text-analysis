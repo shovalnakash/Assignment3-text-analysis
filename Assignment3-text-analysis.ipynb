{
 "cells": [
  {
   "cell_type": "markdown",
   "metadata": {},
   "source": [
    "# Assignment 3 - Text Analysis\n",
    "An explanation this assignment could be found in the .pdf explanation document"
   ]
  },
  {
   "cell_type": "markdown",
   "metadata": {},
   "source": [
    "\n",
    "## Materials to review for this assignment\n",
    "<h4>From Moodle:</h4> \n",
    "<h5><u>Review the notebooks regarding the following python topics</u>:</h5>\n",
    "<div class=\"alert alert-info\">\n",
    "&#x2714; <b>Working with strings</b> (tutorial notebook)<br/>\n",
    "&#x2714; <b>Text Analysis</b> (tutorial notebook)<br/>\n",
    "&#x2714; <b>Hebrew text analysis tools (tokenizer, wordnet)</b> (moodle example)<br/>\n",
    "&#x2714; <b>(brief review) All previous notebooks</b><br/>\n",
    "</div> \n",
    "<h5><u>Review the presentations regarding the following topics</u>:</h5>\n",
    "<div class=\"alert alert-info\">\n",
    "&#x2714; <b>Text Analysis</b> (lecture presentation)<br/>\n",
    "&#x2714; <b>(brief review) All other presentations</b><br/>\n",
    "</div>"
   ]
  },
  {
   "cell_type": "markdown",
   "metadata": {},
   "source": [
    "## Personal Details:"
   ]
  },
  {
   "cell_type": "code",
   "execution_count": null,
   "metadata": {},
   "outputs": [],
   "source": [
    "# Details Student 1:\n",
    "\n",
    "# Name: Shoval Nakash\n",
    "# ID: 207207838\n",
    "\n",
    "# Details Student 2:\n",
    "\n",
    "# No\n"
   ]
  },
  {
   "cell_type": "markdown",
   "metadata": {},
   "source": [
    "## Preceding Step - import modules (packages)\n",
    "This step is necessary in order to use external modules (packages). <br/>"
   ]
  },
  {
   "cell_type": "code",
   "execution_count": 1,
   "metadata": {},
   "outputs": [],
   "source": [
    "# --------------------------------------\n",
    "import pandas as pd\n",
    "import numpy as np\n",
    "# --------------------------------------\n",
    "\n",
    "\n",
    "# --------------------------------------\n",
    "# ------------- visualizations:\n",
    "import seaborn as sns\n",
    "import matplotlib.pyplot as plt\n",
    "from matplotlib.colors import ListedColormap\n",
    "# --------------------------------------\n",
    "\n",
    "\n",
    "# ---------------------------------------\n",
    "import sklearn\n",
    "from sklearn import preprocessing, metrics, pipeline, model_selection, feature_extraction \n",
    "from sklearn import naive_bayes, linear_model, svm, neural_network, neighbors, tree\n",
    "from sklearn import decomposition, cluster\n",
    "\n",
    "from sklearn.model_selection import train_test_split, cross_val_score, GridSearchCV \n",
    "from sklearn.pipeline import Pipeline\n",
    "from sklearn.metrics import accuracy_score, confusion_matrix\n",
    "from sklearn.metrics import precision_score, recall_score, f1_score\n",
    "from sklearn.metrics import mean_squared_error, r2_score, silhouette_score\n",
    "from sklearn.preprocessing import MinMaxScaler, StandardScaler, LabelEncoder\n",
    "\n",
    "from sklearn.svm import LinearSVC\n",
    "from sklearn.neural_network import MLPClassifier\n",
    "from sklearn.linear_model import Perceptron, SGDClassifier\n",
    "from sklearn.decomposition import PCA\n",
    "from sklearn.cluster import KMeans\n",
    "from sklearn.naive_bayes import MultinomialNB, GaussianNB\n",
    "from sklearn.neighbors import KNeighborsClassifier\n",
    "from sklearn.tree import DecisionTreeClassifier\n",
    "# ---------------------------------------\n",
    "\n",
    "\n",
    "# ----------------- output and visualizations: \n",
    "import warnings\n",
    "from sklearn.exceptions import ConvergenceWarning\n",
    "warnings.simplefilter(\"ignore\")\n",
    "warnings.simplefilter(action='ignore', category=FutureWarning)\n",
    "warnings.simplefilter(\"ignore\", category=ConvergenceWarning)\n",
    "# show several prints in one cell. This will allow us to condence every trick in one cell.\n",
    "from IPython.core.interactiveshell import InteractiveShell\n",
    "InteractiveShell.ast_node_interactivity = \"all\"\n",
    "%matplotlib inline\n",
    "pd.pandas.set_option('display.max_columns', None)\n",
    "pd.set_option('display.float_format', lambda x: '%.3f' % x)\n",
    "# ---------------------------------------"
   ]
  },
  {
   "cell_type": "markdown",
   "metadata": {},
   "source": [
    "### Text analysis and String manipulation imports:"
   ]
  },
  {
   "cell_type": "code",
   "execution_count": 2,
   "metadata": {},
   "outputs": [],
   "source": [
    "# --------------------------------------\n",
    "# --------- Text analysis and Hebrew text analysis imports:\n",
    "# vectorizers:\n",
    "from sklearn.feature_extraction import text\n",
    "from sklearn.feature_extraction.text import CountVectorizer, TfidfVectorizer\n",
    "\n",
    "# regular expressions:\n",
    "import re\n",
    "# --------------------------------------"
   ]
  },
  {
   "cell_type": "markdown",
   "metadata": {},
   "source": [
    "### (optional) Hebrew text analysis - WordNet (for Hebrew)\n",
    "Note: the WordNet is not a must"
   ]
  },
  {
   "cell_type": "markdown",
   "metadata": {},
   "source": [
    "#### (optional) Only if you didn't install Wordnet (for Hebrew) use:"
   ]
  },
  {
   "cell_type": "code",
   "execution_count": null,
   "metadata": {},
   "outputs": [],
   "source": [
    "# word net installation:\n",
    "\n",
    "# unmark if you want to use and need to install\n",
    "# !pip install wn\n",
    "# !python -m wn download omw-he:1.4"
   ]
  },
  {
   "cell_type": "code",
   "execution_count": null,
   "metadata": {},
   "outputs": [],
   "source": [
    "# word net import:\n",
    "\n",
    "# unmark if you want to use:\n",
    "# import wn"
   ]
  },
  {
   "cell_type": "markdown",
   "metadata": {},
   "source": [
    "### (optional) Hebrew text analysis - hebrew_tokenizer (Tokenizer for Hebrew)\n",
    "Note: the hebrew_tokenizer is not a must"
   ]
  },
  {
   "cell_type": "markdown",
   "metadata": {},
   "source": [
    "#### (optional) Only if you didn't install hebrew_tokenizer use:"
   ]
  },
  {
   "cell_type": "code",
   "execution_count": null,
   "metadata": {},
   "outputs": [],
   "source": [
    "# Hebrew tokenizer installation:\n",
    "\n",
    "# unmark if you want to use and need to install:\n",
    "# !pip install hebrew_tokenizer"
   ]
  },
  {
   "cell_type": "code",
   "execution_count": null,
   "metadata": {},
   "outputs": [],
   "source": [
    "# Hebrew tokenizer import:\n",
    "\n",
    "# unmark if you want to use:\n",
    "# import hebrew_tokenizer as ht"
   ]
  },
  {
   "cell_type": "markdown",
   "metadata": {},
   "source": [
    "### Reading input files\n",
    "Reading input files for train annotated corpus (raw text data) corpus and for the test corpus"
   ]
  },
  {
   "cell_type": "code",
   "execution_count": 3,
   "metadata": {},
   "outputs": [],
   "source": [
    "train_filename = 'annotated_corpus_for_train.csv'\n",
    "test_filename  = 'corpus_for_test.csv'\n",
    "df_train = pd.read_csv(train_filename, index_col=None, encoding='utf-8')\n",
    "df_test  = pd.read_csv(test_filename, index_col=None, encoding='utf-8')"
   ]
  },
  {
   "cell_type": "code",
   "execution_count": 4,
   "metadata": {},
   "outputs": [
    {
     "data": {
      "text/html": [
       "<div>\n",
       "<style scoped>\n",
       "    .dataframe tbody tr th:only-of-type {\n",
       "        vertical-align: middle;\n",
       "    }\n",
       "\n",
       "    .dataframe tbody tr th {\n",
       "        vertical-align: top;\n",
       "    }\n",
       "\n",
       "    .dataframe thead th {\n",
       "        text-align: right;\n",
       "    }\n",
       "</style>\n",
       "<table border=\"1\" class=\"dataframe\">\n",
       "  <thead>\n",
       "    <tr style=\"text-align: right;\">\n",
       "      <th></th>\n",
       "      <th>story</th>\n",
       "      <th>gender</th>\n",
       "    </tr>\n",
       "  </thead>\n",
       "  <tbody>\n",
       "    <tr>\n",
       "      <th>0</th>\n",
       "      <td>כשחבר הזמין אותי לחול, לא באמת חשבתי שזה יקרה,...</td>\n",
       "      <td>m</td>\n",
       "    </tr>\n",
       "    <tr>\n",
       "      <th>1</th>\n",
       "      <td>לפני שהתגייסתי לצבא עשיתי כל מני מיונים ליחידו...</td>\n",
       "      <td>m</td>\n",
       "    </tr>\n",
       "    <tr>\n",
       "      <th>2</th>\n",
       "      <td>מאז שהתחילו הלימודים חלומו של כל סטודנט זה הפנ...</td>\n",
       "      <td>f</td>\n",
       "    </tr>\n",
       "    <tr>\n",
       "      <th>3</th>\n",
       "      <td>כשהייתי ילד, מטוסים היה הדבר שהכי ריתק אותי. ב...</td>\n",
       "      <td>m</td>\n",
       "    </tr>\n",
       "    <tr>\n",
       "      <th>4</th>\n",
       "      <td>‏הייתי מדריכה בכפר נוער ומתאם הכפר היינו צריכי...</td>\n",
       "      <td>f</td>\n",
       "    </tr>\n",
       "    <tr>\n",
       "      <th>5</th>\n",
       "      <td>לפני כ3 חודשים טסתי לרומא למשך שבוע. טסתי במטו...</td>\n",
       "      <td>f</td>\n",
       "    </tr>\n",
       "    <tr>\n",
       "      <th>6</th>\n",
       "      <td>אני כבר שנתיים נשוי והשנה אני ואישתי סוף סוף י...</td>\n",
       "      <td>m</td>\n",
       "    </tr>\n",
       "    <tr>\n",
       "      <th>7</th>\n",
       "      <td>השנה התחלנו שיפוץ בדירה שלנו בתל אביב. הדירה ה...</td>\n",
       "      <td>f</td>\n",
       "    </tr>\n",
       "  </tbody>\n",
       "</table>\n",
       "</div>"
      ],
      "text/plain": [
       "                                               story gender\n",
       "0  כשחבר הזמין אותי לחול, לא באמת חשבתי שזה יקרה,...      m\n",
       "1  לפני שהתגייסתי לצבא עשיתי כל מני מיונים ליחידו...      m\n",
       "2  מאז שהתחילו הלימודים חלומו של כל סטודנט זה הפנ...      f\n",
       "3  כשהייתי ילד, מטוסים היה הדבר שהכי ריתק אותי. ב...      m\n",
       "4  ‏הייתי מדריכה בכפר נוער ומתאם הכפר היינו צריכי...      f\n",
       "5  לפני כ3 חודשים טסתי לרומא למשך שבוע. טסתי במטו...      f\n",
       "6  אני כבר שנתיים נשוי והשנה אני ואישתי סוף סוף י...      m\n",
       "7  השנה התחלנו שיפוץ בדירה שלנו בתל אביב. הדירה ה...      f"
      ]
     },
     "execution_count": 4,
     "metadata": {},
     "output_type": "execute_result"
    },
    {
     "data": {
      "text/plain": [
       "(753, 2)"
      ]
     },
     "execution_count": 4,
     "metadata": {},
     "output_type": "execute_result"
    }
   ],
   "source": [
    "df_train.head(8)\n",
    "df_train.shape"
   ]
  },
  {
   "cell_type": "code",
   "execution_count": 5,
   "metadata": {},
   "outputs": [
    {
     "data": {
      "text/html": [
       "<div>\n",
       "<style scoped>\n",
       "    .dataframe tbody tr th:only-of-type {\n",
       "        vertical-align: middle;\n",
       "    }\n",
       "\n",
       "    .dataframe tbody tr th {\n",
       "        vertical-align: top;\n",
       "    }\n",
       "\n",
       "    .dataframe thead th {\n",
       "        text-align: right;\n",
       "    }\n",
       "</style>\n",
       "<table border=\"1\" class=\"dataframe\">\n",
       "  <thead>\n",
       "    <tr style=\"text-align: right;\">\n",
       "      <th></th>\n",
       "      <th>test_example_id</th>\n",
       "      <th>story</th>\n",
       "    </tr>\n",
       "  </thead>\n",
       "  <tbody>\n",
       "    <tr>\n",
       "      <th>0</th>\n",
       "      <td>0</td>\n",
       "      <td>כל קיץ אני והמשפחה נוסעים לארצות הברית לוס אנג...</td>\n",
       "    </tr>\n",
       "    <tr>\n",
       "      <th>1</th>\n",
       "      <td>1</td>\n",
       "      <td>הגעתי לשירות המדינה אחרי שנתיים כפעיל בתנועת \"...</td>\n",
       "    </tr>\n",
       "    <tr>\n",
       "      <th>2</th>\n",
       "      <td>2</td>\n",
       "      <td>אחת האהבות הגדולות שלי אלו הכלבים שלי ושל אישת...</td>\n",
       "    </tr>\n",
       "  </tbody>\n",
       "</table>\n",
       "</div>"
      ],
      "text/plain": [
       "   test_example_id                                              story\n",
       "0                0  כל קיץ אני והמשפחה נוסעים לארצות הברית לוס אנג...\n",
       "1                1  הגעתי לשירות המדינה אחרי שנתיים כפעיל בתנועת \"...\n",
       "2                2  אחת האהבות הגדולות שלי אלו הכלבים שלי ושל אישת..."
      ]
     },
     "execution_count": 5,
     "metadata": {},
     "output_type": "execute_result"
    },
    {
     "data": {
      "text/plain": [
       "(323, 2)"
      ]
     },
     "execution_count": 5,
     "metadata": {},
     "output_type": "execute_result"
    }
   ],
   "source": [
    "df_test.head(3)\n",
    "df_test.shape"
   ]
  },
  {
   "cell_type": "markdown",
   "metadata": {},
   "source": [
    "### Your implementation:\n",
    "Write your code solution in the following code-cells\n",
    "\n",
    "# Data cleaning+ train+ test"
   ]
  },
  {
   "cell_type": "code",
   "execution_count": 7,
   "metadata": {},
   "outputs": [],
   "source": [
    "df_train.drop_duplicates(inplace=True)\n",
    "df_test.drop_duplicates(inplace=True)"
   ]
  },
  {
   "cell_type": "markdown",
   "metadata": {},
   "source": [
    "### Analysing Train Data Frame"
   ]
  },
  {
   "cell_type": "code",
   "execution_count": 12,
   "metadata": {},
   "outputs": [
    {
     "data": {
      "text/plain": [
       "Text(0, 10, '573')"
      ]
     },
     "execution_count": 12,
     "metadata": {},
     "output_type": "execute_result"
    },
    {
     "data": {
      "text/plain": [
       "Text(0, 10, '177')"
      ]
     },
     "execution_count": 12,
     "metadata": {},
     "output_type": "execute_result"
    },
    {
     "data": {
      "text/plain": [
       "Text(0.5, 0, 'Gender')"
      ]
     },
     "execution_count": 12,
     "metadata": {},
     "output_type": "execute_result"
    },
    {
     "data": {
      "text/plain": [
       "Text(0, 0.5, 'Count')"
      ]
     },
     "execution_count": 12,
     "metadata": {},
     "output_type": "execute_result"
    },
    {
     "data": {
      "text/plain": [
       "(array([0, 1]), [Text(0, 0, 'm'), Text(1, 0, 'f')])"
      ]
     },
     "execution_count": 12,
     "metadata": {},
     "output_type": "execute_result"
    },
    {
     "data": {
      "image/png": "[encoded data removed]",
      "text/plain": [
       "<Figure size 432x288 with 1 Axes>"
      ]
     },
     "metadata": {
      "needs_background": "light"
     },
     "output_type": "display_data"
    }
   ],
   "source": [
    "gender_split = df_train['gender'].value_counts()\n",
    "sx = gender_split.plot(kind='bar', color=['blue', 'pink'], title='Gender split in df_train')\n",
    "\n",
    "for p in sx.patches:\n",
    "    sx.annotate(str(p.get_height()), (p.get_x() + p.get_width() / 2., p.get_height()),\n",
    "                ha='center', va='center', xytext=(0, 10), textcoords='offset points')\n",
    "\n",
    "plt.xlabel('Gender')\n",
    "plt.ylabel('Count')\n",
    "plt.xticks(rotation=0)\n",
    "plt.show()"
   ]
  },
  {
   "cell_type": "code",
   "execution_count": 16,
   "metadata": {},
   "outputs": [
    {
     "name": "stdout",
     "output_type": "stream",
     "text": [
      "The number of male stories is: 573\n",
      "The number of female stories is: 177\n",
      " \n",
      "After subtraction the number of male stories: 177\n",
      "The number of female stories is: 177\n",
      "\n",
      "The concated DataFrame:\n"
     ]
    },
    {
     "data": {
      "text/html": [
       "<div>\n",
       "<style scoped>\n",
       "    .dataframe tbody tr th:only-of-type {\n",
       "        vertical-align: middle;\n",
       "    }\n",
       "\n",
       "    .dataframe tbody tr th {\n",
       "        vertical-align: top;\n",
       "    }\n",
       "\n",
       "    .dataframe thead th {\n",
       "        text-align: right;\n",
       "    }\n",
       "</style>\n",
       "<table border=\"1\" class=\"dataframe\">\n",
       "  <thead>\n",
       "    <tr style=\"text-align: right;\">\n",
       "      <th></th>\n",
       "      <th>story</th>\n",
       "      <th>gender</th>\n",
       "    </tr>\n",
       "  </thead>\n",
       "  <tbody>\n",
       "    <tr>\n",
       "      <th>107</th>\n",
       "      <td>בשנה האחרונה ניצלתי את הזמן של הקורונה ואת העו...</td>\n",
       "      <td>m</td>\n",
       "    </tr>\n",
       "    <tr>\n",
       "      <th>174</th>\n",
       "      <td>לפני כחצי שנה, בספטמבר 2020, יצאתי מביתי ברמת ...</td>\n",
       "      <td>m</td>\n",
       "    </tr>\n",
       "    <tr>\n",
       "      <th>622</th>\n",
       "      <td>סיפור על חווית מסיבת רווקים עבור חבר. במסיבת ה...</td>\n",
       "      <td>m</td>\n",
       "    </tr>\n",
       "    <tr>\n",
       "      <th>705</th>\n",
       "      <td>טסתי לספרד עם בת זוגתי לראות משחק כדורגל של הק...</td>\n",
       "      <td>m</td>\n",
       "    </tr>\n",
       "    <tr>\n",
       "      <th>648</th>\n",
       "      <td>במהלך תקופת הקורונה החלטתי שאני רוצה לעשות דבר...</td>\n",
       "      <td>m</td>\n",
       "    </tr>\n",
       "    <tr>\n",
       "      <th>...</th>\n",
       "      <td>...</td>\n",
       "      <td>...</td>\n",
       "    </tr>\n",
       "    <tr>\n",
       "      <th>737</th>\n",
       "      <td>במהלך השנה רכשתי דירה שזקוקה לשיפוץ מסיבי, השי...</td>\n",
       "      <td>f</td>\n",
       "    </tr>\n",
       "    <tr>\n",
       "      <th>741</th>\n",
       "      <td>השנה עברתי את החוויה הכי גדולה וטהורה שיכולתי ...</td>\n",
       "      <td>f</td>\n",
       "    </tr>\n",
       "    <tr>\n",
       "      <th>743</th>\n",
       "      <td>גרתי במשך תקופה ארוכה עם 3 שותפים כאשר אני בקו...</td>\n",
       "      <td>f</td>\n",
       "    </tr>\n",
       "    <tr>\n",
       "      <th>745</th>\n",
       "      <td>אז רציתי לספר לכם חוויה שעברתי אני יודעת מראש ...</td>\n",
       "      <td>f</td>\n",
       "    </tr>\n",
       "    <tr>\n",
       "      <th>751</th>\n",
       "      <td>החוויה אותה ארצה לשתף התרחשה לפני כמה חודשים, ...</td>\n",
       "      <td>f</td>\n",
       "    </tr>\n",
       "  </tbody>\n",
       "</table>\n",
       "<p>354 rows × 2 columns</p>\n",
       "</div>"
      ],
      "text/plain": [
       "                                                 story gender\n",
       "107  בשנה האחרונה ניצלתי את הזמן של הקורונה ואת העו...      m\n",
       "174  לפני כחצי שנה, בספטמבר 2020, יצאתי מביתי ברמת ...      m\n",
       "622  סיפור על חווית מסיבת רווקים עבור חבר. במסיבת ה...      m\n",
       "705  טסתי לספרד עם בת זוגתי לראות משחק כדורגל של הק...      m\n",
       "648  במהלך תקופת הקורונה החלטתי שאני רוצה לעשות דבר...      m\n",
       "..                                                 ...    ...\n",
       "737  במהלך השנה רכשתי דירה שזקוקה לשיפוץ מסיבי, השי...      f\n",
       "741  השנה עברתי את החוויה הכי גדולה וטהורה שיכולתי ...      f\n",
       "743  גרתי במשך תקופה ארוכה עם 3 שותפים כאשר אני בקו...      f\n",
       "745  אז רציתי לספר לכם חוויה שעברתי אני יודעת מראש ...      f\n",
       "751  החוויה אותה ארצה לשתף התרחשה לפני כמה חודשים, ...      f\n",
       "\n",
       "[354 rows x 2 columns]"
      ]
     },
     "execution_count": 16,
     "metadata": {},
     "output_type": "execute_result"
    },
    {
     "name": "stdout",
     "output_type": "stream",
     "text": [
      "\n",
      "Shuffle rows of the dataframe:\n"
     ]
    },
    {
     "data": {
      "text/html": [
       "<div>\n",
       "<style scoped>\n",
       "    .dataframe tbody tr th:only-of-type {\n",
       "        vertical-align: middle;\n",
       "    }\n",
       "\n",
       "    .dataframe tbody tr th {\n",
       "        vertical-align: top;\n",
       "    }\n",
       "\n",
       "    .dataframe thead th {\n",
       "        text-align: right;\n",
       "    }\n",
       "</style>\n",
       "<table border=\"1\" class=\"dataframe\">\n",
       "  <thead>\n",
       "    <tr style=\"text-align: right;\">\n",
       "      <th></th>\n",
       "      <th>story</th>\n",
       "      <th>gender</th>\n",
       "    </tr>\n",
       "  </thead>\n",
       "  <tbody>\n",
       "    <tr>\n",
       "      <th>0</th>\n",
       "      <td>לפני מספר חודשים טסתי לחו״ל פעם ראשונה מהרגע ש...</td>\n",
       "      <td>m</td>\n",
       "    </tr>\n",
       "    <tr>\n",
       "      <th>1</th>\n",
       "      <td>בשנה האחרונה אני בן זוגי רצינו לעבור לדירה משו...</td>\n",
       "      <td>f</td>\n",
       "    </tr>\n",
       "    <tr>\n",
       "      <th>2</th>\n",
       "      <td>אני הולך לספר על חוויה שקרתה לי בחצי שנה האחרו...</td>\n",
       "      <td>m</td>\n",
       "    </tr>\n",
       "    <tr>\n",
       "      <th>3</th>\n",
       "      <td>לפני מספר חודשים חיליתי בנגיף הארור נגיף הקורו...</td>\n",
       "      <td>m</td>\n",
       "    </tr>\n",
       "    <tr>\n",
       "      <th>4</th>\n",
       "      <td>במהלך תקופת הקורונה נחשפתי למקרים רבים של מבוג...</td>\n",
       "      <td>f</td>\n",
       "    </tr>\n",
       "    <tr>\n",
       "      <th>...</th>\n",
       "      <td>...</td>\n",
       "      <td>...</td>\n",
       "    </tr>\n",
       "    <tr>\n",
       "      <th>349</th>\n",
       "      <td>הכל מתחיל בשנת 2020 הייתי אז שנה א במדעי המחשב...</td>\n",
       "      <td>f</td>\n",
       "    </tr>\n",
       "    <tr>\n",
       "      <th>350</th>\n",
       "      <td>זה היה יום גשום , אני וחברה שלי היינו רעבים ,ח...</td>\n",
       "      <td>m</td>\n",
       "    </tr>\n",
       "    <tr>\n",
       "      <th>351</th>\n",
       "      <td>יום אחד הלכתי לטייל בפארק שליד הבית שלי . אני ...</td>\n",
       "      <td>m</td>\n",
       "    </tr>\n",
       "    <tr>\n",
       "      <th>352</th>\n",
       "      <td>משחק כדורגל, זה ללא ספק אחת החוויות הטובות יות...</td>\n",
       "      <td>m</td>\n",
       "    </tr>\n",
       "    <tr>\n",
       "      <th>353</th>\n",
       "      <td>כנשפתחה ההרשמה לקורסים של סמסטר א, ניסיתי כמו ...</td>\n",
       "      <td>m</td>\n",
       "    </tr>\n",
       "  </tbody>\n",
       "</table>\n",
       "<p>354 rows × 2 columns</p>\n",
       "</div>"
      ],
      "text/plain": [
       "                                                 story gender\n",
       "0    לפני מספר חודשים טסתי לחו״ל פעם ראשונה מהרגע ש...      m\n",
       "1    בשנה האחרונה אני בן זוגי רצינו לעבור לדירה משו...      f\n",
       "2    אני הולך לספר על חוויה שקרתה לי בחצי שנה האחרו...      m\n",
       "3    לפני מספר חודשים חיליתי בנגיף הארור נגיף הקורו...      m\n",
       "4    במהלך תקופת הקורונה נחשפתי למקרים רבים של מבוג...      f\n",
       "..                                                 ...    ...\n",
       "349  הכל מתחיל בשנת 2020 הייתי אז שנה א במדעי המחשב...      f\n",
       "350  זה היה יום גשום , אני וחברה שלי היינו רעבים ,ח...      m\n",
       "351  יום אחד הלכתי לטייל בפארק שליד הבית שלי . אני ...      m\n",
       "352  משחק כדורגל, זה ללא ספק אחת החוויות הטובות יות...      m\n",
       "353  כנשפתחה ההרשמה לקורסים של סמסטר א, ניסיתי כמו ...      m\n",
       "\n",
       "[354 rows x 2 columns]"
      ]
     },
     "execution_count": 16,
     "metadata": {},
     "output_type": "execute_result"
    }
   ],
   "source": [
    "Male_samples = df_train[df_train['gender'] == 'm']\n",
    "Female_samples = df_train[df_train['gender'] == 'f']\n",
    "print(\"The number of male stories is:\",Male_samples.shape[0])\n",
    "print(\"The number of female stories is:\",Female_samples.shape[0])\n",
    "print(\" \")\n",
    "\n",
    "\n",
    "M_downsampled = Male_samples.sample(len(Female_samples))\n",
    "print(\"After subtraction the number of male stories:\",M_downsampled.shape[0])\n",
    "print(\"The number of female stories is:\",Female_samples.shape[0])\n",
    "print(\"\")\n",
    "\n",
    "print(\"The concated DataFrame:\")\n",
    "df_train = pd.concat([M_downsampled, Female_samples])\n",
    "df_train\n",
    "print(\"\")\n",
    "\n",
    "print(\"Shuffle rows of the dataframe:\")\n",
    "df_train = df_train.sample(frac=1).reset_index(drop=True)\n",
    "df_train"
   ]
  },
  {
   "cell_type": "markdown",
   "metadata": {},
   "source": [
    "### Text manipulation"
   ]
  },
  {
   "cell_type": "code",
   "execution_count": 17,
   "metadata": {},
   "outputs": [],
   "source": [
    "def Text_preprocess(text):\n",
    "    text = re.sub(r'\\b\\d{1,2}:\\d{2}\\b', '', text)\n",
    "    text = re.sub(r'!+', '', text)\n",
    "    text = re.sub(r'–', '', text)\n",
    "    text = re.sub(r'[^a-zA-Zא-תםןךףץ\" \\n]', '', text)\n",
    "    words = text.split()\n",
    "    words = [word for word in words if len(word) >= 3]\n",
    "\n",
    "    return ' '.join(words)"
   ]
  },
  {
   "cell_type": "code",
   "execution_count": 23,
   "metadata": {},
   "outputs": [],
   "source": [
    "df_train['story'] = df_train['story'].apply(Text_preprocess)\n",
    "df_test['story'] = df_test['story'].apply(Text_preprocess)"
   ]
  },
  {
   "cell_type": "code",
   "execution_count": 30,
   "metadata": {},
   "outputs": [],
   "source": [
    "from sklearn.model_selection import GridSearchCV, cross_val_predict\n",
    "def evaluate_classifiers(X, y):\n",
    "    \n",
    "    tfidf_Vectorizer = TfidfVectorizer(tokenizer=lambda x: x.split(), preprocessor=lambda x: x,\n",
    "                                       ngram_range=(1,3), min_df=0, max_df=300, max_features=8000)\n",
    "    count_Vectorizer = CountVectorizer(tokenizer=lambda x:x.split(' '), \n",
    "                                       ngram_range=(1,3), min_df=0, max_df=650, max_features=8000)\n",
    "\n",
    "    classifiers = [\n",
    "        ('LinearSVC', LinearSVC()),\n",
    "        ('SGDClassifier', SGDClassifier(random_state=42)),\n",
    "        ('MultinomialNB', MultinomialNB()),\n",
    "        ('GaussianNB', GaussianNB()),\n",
    "        ('DecisionTreeClassifier', DecisionTreeClassifier(random_state=42)),\n",
    "        ('KNeighbors', KNeighborsClassifier())\n",
    "    ]\n",
    "    \n",
    "    param_grids = {\n",
    "        'DecisionTreeClassifier': {'max_depth': [2, 4, 6, 8, 10]},\n",
    "        'KNeighbors': {'n_neighbors': [3, 5, 7]}\n",
    "    }\n",
    "    \n",
    "    pipelines = [\n",
    "        ('text_clf_tfidf', Pipeline([\n",
    "            ('vect', tfidf_Vectorizer),\n",
    "            ('clf', None)\n",
    "        ])),\n",
    "        ('text_clf_count', Pipeline([\n",
    "            ('vect', count_Vectorizer),\n",
    "            ('clf', None)  \n",
    "        ]))\n",
    "    ]\n",
    "\n",
    "    results = {}\n",
    "    best_score = 0\n",
    "    best_tokenizer = None\n",
    "    best_classifier = None\n",
    "\n",
    "    for pipe_name, pipeline in pipelines:\n",
    "        for clf_name, classifier in classifiers:\n",
    "            if clf_name in param_grids:\n",
    "                grid_search = GridSearchCV(classifier, param_grids[clf_name], cv=10, scoring='f1_macro')\n",
    "                grid_search.fit(pipeline.named_steps['vect'].fit_transform(X), y)\n",
    "                best_classifier_temp = grid_search.best_estimator_\n",
    "            else:\n",
    "                best_classifier_temp = classifier\n",
    "\n",
    "            pipeline.set_params(clf=best_classifier_temp)\n",
    "            \n",
    "            if clf_name == 'GaussianNB':\n",
    "                X_transformed = pipeline.named_steps['vect'].fit_transform(X).toarray()\n",
    "                Y_pred = cross_val_predict(best_classifier_temp, X_transformed, y, cv=10)\n",
    "            else:\n",
    "                Y_pred = cross_val_predict(pipeline, X, y, cv=10)\n",
    "\n",
    "            F1_male = f1_score(y, Y_pred, pos_label='m')\n",
    "            F1_female = f1_score(y, Y_pred, pos_label='f')\n",
    "            average_F1 = (F1_male + F1_female) / 2\n",
    "\n",
    "            key = f\"{pipe_name} with {clf_name}\"\n",
    "            results[key] = average_F1\n",
    "            if average_F1 > best_score:\n",
    "                best_score = average_F1\n",
    "                best_tokenizer = pipeline.named_steps['vect']\n",
    "                best_classifier = best_classifier_temp\n",
    "\n",
    "    return results, best_tokenizer, best_classifier"
   ]
  },
  {
   "cell_type": "code",
   "execution_count": 31,
   "metadata": {},
   "outputs": [
    {
     "data": {
      "text/plain": [
       "{'text_clf_tfidf with LinearSVC': 0.6975446161216913,\n",
       " 'text_clf_tfidf with SGDClassifier': 0.705453149001536,\n",
       " 'text_clf_tfidf with MultinomialNB': 0.7132591766847647,\n",
       " 'text_clf_tfidf with GaussianNB': 0.62653452685422,\n",
       " 'text_clf_tfidf with DecisionTreeClassifier': 0.5498092412039,\n",
       " 'text_clf_tfidf with KNeighbors': 0.629585846080115,\n",
       " 'text_clf_count with LinearSVC': 0.683454156420656,\n",
       " 'text_clf_count with SGDClassifier': 0.6608437390221314,\n",
       " 'text_clf_count with MultinomialNB': 0.7181777974347634,\n",
       " 'text_clf_count with GaussianNB': 0.623930668157674,\n",
       " 'text_clf_count with DecisionTreeClassifier': 0.6186410246179628,\n",
       " 'text_clf_count with KNeighbors': 0.40250030991637026}"
      ]
     },
     "execution_count": 31,
     "metadata": {},
     "output_type": "execute_result"
    },
    {
     "name": "stdout",
     "output_type": "stream",
     "text": [
      "\n"
     ]
    },
    {
     "data": {
      "text/plain": [
       "CountVectorizer(max_df=650, max_features=8000, min_df=0, ngram_range=(1, 3),\n",
       "                tokenizer=<function evaluate_classifiers.<locals>.<lambda> at 0x000002F2D507AB80>)"
      ]
     },
     "execution_count": 31,
     "metadata": {},
     "output_type": "execute_result"
    },
    {
     "data": {
      "text/plain": [
       "MultinomialNB()"
      ]
     },
     "execution_count": 31,
     "metadata": {},
     "output_type": "execute_result"
    }
   ],
   "source": [
    "X = df_train['story']\n",
    "y = df_train['gender']\n",
    "results, best_tokenizer, best_classifier = evaluate_classifiers(X, y)\n",
    "results\n",
    "print(\"\")\n",
    "best_tokenizer\n",
    "best_classifier"
   ]
  },
  {
   "cell_type": "code",
   "execution_count": 32,
   "metadata": {},
   "outputs": [
    {
     "data": {
      "text/plain": [
       "MultinomialNB()"
      ]
     },
     "execution_count": 32,
     "metadata": {},
     "output_type": "execute_result"
    },
    {
     "data": {
      "text/html": [
       "<div>\n",
       "<style scoped>\n",
       "    .dataframe tbody tr th:only-of-type {\n",
       "        vertical-align: middle;\n",
       "    }\n",
       "\n",
       "    .dataframe tbody tr th {\n",
       "        vertical-align: top;\n",
       "    }\n",
       "\n",
       "    .dataframe thead th {\n",
       "        text-align: right;\n",
       "    }\n",
       "</style>\n",
       "<table border=\"1\" class=\"dataframe\">\n",
       "  <thead>\n",
       "    <tr style=\"text-align: right;\">\n",
       "      <th></th>\n",
       "      <th>test_example_id</th>\n",
       "      <th>story</th>\n",
       "      <th>predicted_gender</th>\n",
       "    </tr>\n",
       "  </thead>\n",
       "  <tbody>\n",
       "    <tr>\n",
       "      <th>0</th>\n",
       "      <td>0</td>\n",
       "      <td>קיץ אני והמשפחה נוסעים לארצות הברית לוס אנגלס ...</td>\n",
       "      <td>m</td>\n",
       "    </tr>\n",
       "    <tr>\n",
       "      <th>1</th>\n",
       "      <td>1</td>\n",
       "      <td>הגעתי לשירות המדינה אחרי שנתיים כפעיל בתנועת \"...</td>\n",
       "      <td>m</td>\n",
       "    </tr>\n",
       "    <tr>\n",
       "      <th>2</th>\n",
       "      <td>2</td>\n",
       "      <td>אחת האהבות הגדולות שלי אלו הכלבים שלי ושל אישת...</td>\n",
       "      <td>m</td>\n",
       "    </tr>\n",
       "    <tr>\n",
       "      <th>3</th>\n",
       "      <td>3</td>\n",
       "      <td>רגע הגיוס לצבא היה הרגע הכי משמעותי עבורי אני ...</td>\n",
       "      <td>m</td>\n",
       "    </tr>\n",
       "    <tr>\n",
       "      <th>4</th>\n",
       "      <td>4</td>\n",
       "      <td>אני הגעתי לברזיל ישר מקולומביה וגם אני עשיתי ע...</td>\n",
       "      <td>f</td>\n",
       "    </tr>\n",
       "  </tbody>\n",
       "</table>\n",
       "</div>"
      ],
      "text/plain": [
       "   test_example_id                                              story  \\\n",
       "0                0  קיץ אני והמשפחה נוסעים לארצות הברית לוס אנגלס ...   \n",
       "1                1  הגעתי לשירות המדינה אחרי שנתיים כפעיל בתנועת \"...   \n",
       "2                2  אחת האהבות הגדולות שלי אלו הכלבים שלי ושל אישת...   \n",
       "3                3  רגע הגיוס לצבא היה הרגע הכי משמעותי עבורי אני ...   \n",
       "4                4  אני הגעתי לברזיל ישר מקולומביה וגם אני עשיתי ע...   \n",
       "\n",
       "  predicted_gender  \n",
       "0                m  \n",
       "1                m  \n",
       "2                m  \n",
       "3                m  \n",
       "4                f  "
      ]
     },
     "execution_count": 32,
     "metadata": {},
     "output_type": "execute_result"
    },
    {
     "data": {
      "text/html": [
       "<div>\n",
       "<style scoped>\n",
       "    .dataframe tbody tr th:only-of-type {\n",
       "        vertical-align: middle;\n",
       "    }\n",
       "\n",
       "    .dataframe tbody tr th {\n",
       "        vertical-align: top;\n",
       "    }\n",
       "\n",
       "    .dataframe thead th {\n",
       "        text-align: right;\n",
       "    }\n",
       "</style>\n",
       "<table border=\"1\" class=\"dataframe\">\n",
       "  <thead>\n",
       "    <tr style=\"text-align: right;\">\n",
       "      <th></th>\n",
       "      <th>test_example_id</th>\n",
       "      <th>story</th>\n",
       "      <th>predicted_gender</th>\n",
       "    </tr>\n",
       "  </thead>\n",
       "  <tbody>\n",
       "    <tr>\n",
       "      <th>318</th>\n",
       "      <td>318</td>\n",
       "      <td>בשנה האחרונה הרגשתי תקוע בעבודה השגרה הפכה למש...</td>\n",
       "      <td>m</td>\n",
       "    </tr>\n",
       "    <tr>\n",
       "      <th>319</th>\n",
       "      <td>319</td>\n",
       "      <td>אני ואילן חברים טובים מזה שנה תמיד חלמנו לפתח ...</td>\n",
       "      <td>m</td>\n",
       "    </tr>\n",
       "    <tr>\n",
       "      <th>320</th>\n",
       "      <td>320</td>\n",
       "      <td>מידי יום שישי אני נוהג לנסוע בתחבורה ציבורית ס...</td>\n",
       "      <td>m</td>\n",
       "    </tr>\n",
       "    <tr>\n",
       "      <th>321</th>\n",
       "      <td>321</td>\n",
       "      <td>לפני מספר חודשים בשיא התחלואה הגל השני עמית של...</td>\n",
       "      <td>m</td>\n",
       "    </tr>\n",
       "    <tr>\n",
       "      <th>322</th>\n",
       "      <td>322</td>\n",
       "      <td>היום דיווחתי גניבה האוטו שלי בוקר אחד התעוררתי...</td>\n",
       "      <td>m</td>\n",
       "    </tr>\n",
       "  </tbody>\n",
       "</table>\n",
       "</div>"
      ],
      "text/plain": [
       "     test_example_id                                              story  \\\n",
       "318              318  בשנה האחרונה הרגשתי תקוע בעבודה השגרה הפכה למש...   \n",
       "319              319  אני ואילן חברים טובים מזה שנה תמיד חלמנו לפתח ...   \n",
       "320              320  מידי יום שישי אני נוהג לנסוע בתחבורה ציבורית ס...   \n",
       "321              321  לפני מספר חודשים בשיא התחלואה הגל השני עמית של...   \n",
       "322              322  היום דיווחתי גניבה האוטו שלי בוקר אחד התעוררתי...   \n",
       "\n",
       "    predicted_gender  \n",
       "318                m  \n",
       "319                m  \n",
       "320                m  \n",
       "321                m  \n",
       "322                m  "
      ]
     },
     "execution_count": 32,
     "metadata": {},
     "output_type": "execute_result"
    }
   ],
   "source": [
    "X_train_Transformed = best_tokenizer.transform(df_train['story'])\n",
    "Y_train = df_train['gender']\n",
    "\n",
    "if isinstance(best_classifier, GaussianNB):\n",
    "    X_train_Transformed = X_train_Transformed.toarray()\n",
    "\n",
    "best_classifier.fit(X_train_Transformed, Y_train)\n",
    "\n",
    "X_test_Transformed = best_tokenizer.transform(df_test['story'])\n",
    "\n",
    "if isinstance(best_classifier, GaussianNB):\n",
    "    X_test_Transformed = X_test_Transformed.toarray()\n",
    "\n",
    "Y_pred_test = best_classifier.predict(X_test_Transformed)\n",
    "\n",
    "df_test['predicted_gender'] = Y_pred_test\n",
    "\n",
    "df_test.head()\n",
    "df_test.tail()"
   ]
  },
  {
   "cell_type": "code",
   "execution_count": null,
   "metadata": {},
   "outputs": [],
   "source": []
  },
  {
   "cell_type": "markdown",
   "metadata": {},
   "source": [
    "### Save output to csv (optional)\n",
    "After you're done save your output to the 'classification_results.csv' csv file.<br/>\n",
    "We assume that the dataframe with your results contain the following columns:\n",
    "* column 1 (left column): 'test_example_id'  - the same id associated to each of the test stories to be predicted.\n",
    "* column 2 (right column): 'predicted_category' - the predicted gender value for each of the associated story. \n",
    "\n",
    "Assuming your predicted values are in the `df_predicted` dataframe, you should save you're results as following:"
   ]
  },
  {
   "cell_type": "code",
   "execution_count": 33,
   "metadata": {},
   "outputs": [],
   "source": [
    "df_predicted=df_test\n",
    "\n",
    "df_predicted.to_csv('classification_results.csv',index=False)"
   ]
  },
  {
   "cell_type": "code",
   "execution_count": null,
   "metadata": {},
   "outputs": [],
   "source": []
  }
 ],
 "metadata": {
  "celltoolbar": "Create Assignment",
  "kernelspec": {
   "display_name": "Python 3",
   "language": "python",
   "name": "python3"
  },
  "language_info": {
   "codemirror_mode": {
    "name": "ipython",
    "version": 3
   },
   "file_extension": ".py",
   "mimetype": "text/x-python",
   "name": "python",
   "nbconvert_exporter": "python",
   "pygments_lexer": "ipython3",
   "version": "3.8.8"
  }
 },
 "nbformat": 4,
 "nbformat_minor": 4
}
